{
 "cells": [
  {
   "cell_type": "code",
   "execution_count": 1,
   "id": "b1bdd63a",
   "metadata": {},
   "outputs": [],
   "source": [
    "import numpy as np\n",
    "import pandas as pd\n",
    "import dask.array as da\n",
    "import dask.dataframe as dd\n",
    "import dask.bag as db\n",
    "import dask.delayed"
   ]
  },
  {
   "cell_type": "markdown",
   "id": "a100c20d",
   "metadata": {},
   "source": [
    "# Dask Array"
   ]
  },
  {
   "cell_type": "code",
   "execution_count": 2,
   "id": "eebf0af5",
   "metadata": {},
   "outputs": [
    {
     "data": {
      "text/plain": [
       "array([ 0,  1,  2,  3,  4,  5,  6,  7,  8,  9, 10])"
      ]
     },
     "execution_count": 2,
     "metadata": {},
     "output_type": "execute_result"
    }
   ],
   "source": [
    "np_arr = np.arange(11)\n",
    "np_arr"
   ]
  },
  {
   "cell_type": "code",
   "execution_count": 3,
   "id": "3e33ad73",
   "metadata": {},
   "outputs": [
    {
     "data": {
      "text/html": [
       "<table>\n",
       "    <tr>\n",
       "        <td>\n",
       "            <table>\n",
       "                <thead>\n",
       "                    <tr>\n",
       "                        <td> </td>\n",
       "                        <th> Array </th>\n",
       "                        <th> Chunk </th>\n",
       "                    </tr>\n",
       "                </thead>\n",
       "                <tbody>\n",
       "                    \n",
       "                    <tr>\n",
       "                        <th> Bytes </th>\n",
       "                        <td> 88 B </td>\n",
       "                        <td> 40 B </td>\n",
       "                    </tr>\n",
       "                    \n",
       "                    <tr>\n",
       "                        <th> Shape </th>\n",
       "                        <td> (11,) </td>\n",
       "                        <td> (5,) </td>\n",
       "                    </tr>\n",
       "                    <tr>\n",
       "                        <th> Count </th>\n",
       "                        <td> 3 Tasks </td>\n",
       "                        <td> 3 Chunks </td>\n",
       "                    </tr>\n",
       "                    <tr>\n",
       "                    <th> Type </th>\n",
       "                    <td> int64 </td>\n",
       "                    <td> numpy.ndarray </td>\n",
       "                    </tr>\n",
       "                </tbody>\n",
       "            </table>\n",
       "        </td>\n",
       "        <td>\n",
       "        <svg width=\"170\" height=\"88\" style=\"stroke:rgb(0,0,0);stroke-width:1\" >\n",
       "\n",
       "  <!-- Horizontal lines -->\n",
       "  <line x1=\"0\" y1=\"0\" x2=\"120\" y2=\"0\" style=\"stroke-width:2\" />\n",
       "  <line x1=\"0\" y1=\"38\" x2=\"120\" y2=\"38\" style=\"stroke-width:2\" />\n",
       "\n",
       "  <!-- Vertical lines -->\n",
       "  <line x1=\"0\" y1=\"0\" x2=\"0\" y2=\"38\" style=\"stroke-width:2\" />\n",
       "  <line x1=\"54\" y1=\"0\" x2=\"54\" y2=\"38\" />\n",
       "  <line x1=\"109\" y1=\"0\" x2=\"109\" y2=\"38\" />\n",
       "  <line x1=\"120\" y1=\"0\" x2=\"120\" y2=\"38\" style=\"stroke-width:2\" />\n",
       "\n",
       "  <!-- Colored Rectangle -->\n",
       "  <polygon points=\"0.0,0.0 120.0,0.0 120.0,38.06217810460202 0.0,38.06217810460202\" style=\"fill:#ECB172A0;stroke-width:0\"/>\n",
       "\n",
       "  <!-- Text -->\n",
       "  <text x=\"60.000000\" y=\"58.062178\" font-size=\"1.0rem\" font-weight=\"100\" text-anchor=\"middle\" >11</text>\n",
       "  <text x=\"140.000000\" y=\"19.031089\" font-size=\"1.0rem\" font-weight=\"100\" text-anchor=\"middle\" transform=\"rotate(0,140.000000,19.031089)\">1</text>\n",
       "</svg>\n",
       "        </td>\n",
       "    </tr>\n",
       "</table>"
      ],
      "text/plain": [
       "dask.array<array, shape=(11,), dtype=int64, chunksize=(5,), chunktype=numpy.ndarray>"
      ]
     },
     "execution_count": 3,
     "metadata": {},
     "output_type": "execute_result"
    }
   ],
   "source": [
    "dask_arr = da.from_array(np_arr, chunks=5)\n",
    "dask_arr"
   ]
  },
  {
   "cell_type": "code",
   "execution_count": 4,
   "id": "a122d0be",
   "metadata": {},
   "outputs": [
    {
     "data": {
      "image/png": "[encoded data removed]",
      "text/plain": [
       "<IPython.core.display.Image object>"
      ]
     },
     "execution_count": 4,
     "metadata": {},
     "output_type": "execute_result"
    }
   ],
   "source": [
    "dask_arr.visualize()"
   ]
  },
  {
   "cell_type": "code",
   "execution_count": 5,
   "id": "a8dad912",
   "metadata": {},
   "outputs": [
    {
     "data": {
      "text/plain": [
       "array([ 0,  1,  2,  3,  4,  5,  6,  7,  8,  9, 10])"
      ]
     },
     "execution_count": 5,
     "metadata": {},
     "output_type": "execute_result"
    }
   ],
   "source": [
    "dask_arr.compute()"
   ]
  },
  {
   "cell_type": "code",
   "execution_count": 6,
   "id": "077ca998",
   "metadata": {},
   "outputs": [
    {
     "data": {
      "text/plain": [
       "5.0"
      ]
     },
     "execution_count": 6,
     "metadata": {},
     "output_type": "execute_result"
    }
   ],
   "source": [
    "dask_arr.mean().compute()"
   ]
  },
  {
   "cell_type": "code",
   "execution_count": 7,
   "id": "f7ded5ce",
   "metadata": {},
   "outputs": [
    {
     "data": {
      "image/png": "[encoded data removed]",
      "text/plain": [
       "<IPython.core.display.Image object>"
      ]
     },
     "execution_count": 7,
     "metadata": {},
     "output_type": "execute_result"
    }
   ],
   "source": [
    "res = dask_arr.mean()\n",
    "res.visualize()"
   ]
  },
  {
   "cell_type": "code",
   "execution_count": 8,
   "id": "de1d4a5f",
   "metadata": {},
   "outputs": [
    {
     "data": {
      "text/plain": [
       "((5, 5, 1),)"
      ]
     },
     "execution_count": 8,
     "metadata": {},
     "output_type": "execute_result"
    }
   ],
   "source": [
    "dask_arr.chunks"
   ]
  },
  {
   "cell_type": "code",
   "execution_count": 9,
   "id": "0846c052",
   "metadata": {},
   "outputs": [
    {
     "data": {
      "text/plain": [
       "array([ 0,  1,  2,  3,  4,  5,  6,  7,  8,  9, 10])"
      ]
     },
     "execution_count": 9,
     "metadata": {},
     "output_type": "execute_result"
    }
   ],
   "source": [
    "dask_arr2 = da.arange(11, chunks=5)\n",
    "dask_arr2.compute()"
   ]
  },
  {
   "cell_type": "markdown",
   "id": "c6fbe1e7",
   "metadata": {},
   "source": [
    "Comparision numpy array performance with dask array"
   ]
  },
  {
   "cell_type": "code",
   "execution_count": 10,
   "id": "158b6e1a",
   "metadata": {},
   "outputs": [
    {
     "data": {
      "text/plain": [
       "(262800000,)"
      ]
     },
     "execution_count": 10,
     "metadata": {},
     "output_type": "execute_result"
    }
   ],
   "source": [
    "x = np.random.rand(50 * 365 * 24 * 60 * 10)\n",
    "x.shape"
   ]
  },
  {
   "cell_type": "code",
   "execution_count": 11,
   "id": "aa563f72",
   "metadata": {},
   "outputs": [
    {
     "name": "stdout",
     "output_type": "stream",
     "text": [
      "CPU times: user 100 ms, sys: 2.5 ms, total: 103 ms\n",
      "Wall time: 102 ms\n"
     ]
    },
    {
     "data": {
      "text/plain": [
       "131397465.25506176"
      ]
     },
     "execution_count": 11,
     "metadata": {},
     "output_type": "execute_result"
    }
   ],
   "source": [
    "%%time\n",
    "\n",
    "x_sum = x.sum()\n",
    "x_sum"
   ]
  },
  {
   "cell_type": "code",
   "execution_count": 12,
   "id": "3375bb9c",
   "metadata": {},
   "outputs": [
    {
     "data": {
      "text/html": [
       "<table>\n",
       "    <tr>\n",
       "        <td>\n",
       "            <table>\n",
       "                <thead>\n",
       "                    <tr>\n",
       "                        <td> </td>\n",
       "                        <th> Array </th>\n",
       "                        <th> Chunk </th>\n",
       "                    </tr>\n",
       "                </thead>\n",
       "                <tbody>\n",
       "                    \n",
       "                    <tr>\n",
       "                        <th> Bytes </th>\n",
       "                        <td> 1.96 GiB </td>\n",
       "                        <td> 250.63 MiB </td>\n",
       "                    </tr>\n",
       "                    \n",
       "                    <tr>\n",
       "                        <th> Shape </th>\n",
       "                        <td> (262800000,) </td>\n",
       "                        <td> (32850000,) </td>\n",
       "                    </tr>\n",
       "                    <tr>\n",
       "                        <th> Count </th>\n",
       "                        <td> 8 Tasks </td>\n",
       "                        <td> 8 Chunks </td>\n",
       "                    </tr>\n",
       "                    <tr>\n",
       "                    <th> Type </th>\n",
       "                    <td> float64 </td>\n",
       "                    <td> numpy.ndarray </td>\n",
       "                    </tr>\n",
       "                </tbody>\n",
       "            </table>\n",
       "        </td>\n",
       "        <td>\n",
       "        <svg width=\"170\" height=\"75\" style=\"stroke:rgb(0,0,0);stroke-width:1\" >\n",
       "\n",
       "  <!-- Horizontal lines -->\n",
       "  <line x1=\"0\" y1=\"0\" x2=\"120\" y2=\"0\" style=\"stroke-width:2\" />\n",
       "  <line x1=\"0\" y1=\"25\" x2=\"120\" y2=\"25\" style=\"stroke-width:2\" />\n",
       "\n",
       "  <!-- Vertical lines -->\n",
       "  <line x1=\"0\" y1=\"0\" x2=\"0\" y2=\"25\" style=\"stroke-width:2\" />\n",
       "  <line x1=\"15\" y1=\"0\" x2=\"15\" y2=\"25\" />\n",
       "  <line x1=\"30\" y1=\"0\" x2=\"30\" y2=\"25\" />\n",
       "  <line x1=\"45\" y1=\"0\" x2=\"45\" y2=\"25\" />\n",
       "  <line x1=\"60\" y1=\"0\" x2=\"60\" y2=\"25\" />\n",
       "  <line x1=\"75\" y1=\"0\" x2=\"75\" y2=\"25\" />\n",
       "  <line x1=\"90\" y1=\"0\" x2=\"90\" y2=\"25\" />\n",
       "  <line x1=\"105\" y1=\"0\" x2=\"105\" y2=\"25\" />\n",
       "  <line x1=\"120\" y1=\"0\" x2=\"120\" y2=\"25\" style=\"stroke-width:2\" />\n",
       "\n",
       "  <!-- Colored Rectangle -->\n",
       "  <polygon points=\"0.0,0.0 120.0,0.0 120.0,25.412616514582485 0.0,25.412616514582485\" style=\"fill:#ECB172A0;stroke-width:0\"/>\n",
       "\n",
       "  <!-- Text -->\n",
       "  <text x=\"60.000000\" y=\"45.412617\" font-size=\"1.0rem\" font-weight=\"100\" text-anchor=\"middle\" >262800000</text>\n",
       "  <text x=\"140.000000\" y=\"12.706308\" font-size=\"1.0rem\" font-weight=\"100\" text-anchor=\"middle\" transform=\"rotate(0,140.000000,12.706308)\">1</text>\n",
       "</svg>\n",
       "        </td>\n",
       "    </tr>\n",
       "</table>"
      ],
      "text/plain": [
       "dask.array<array, shape=(262800000,), dtype=float64, chunksize=(32850000,), chunktype=numpy.ndarray>"
      ]
     },
     "execution_count": 12,
     "metadata": {},
     "output_type": "execute_result"
    }
   ],
   "source": [
    "x_dask = da.from_array(x, chunks=len(x) // 8)\n",
    "x_dask"
   ]
  },
  {
   "cell_type": "code",
   "execution_count": 13,
   "id": "9174b2a7",
   "metadata": {},
   "outputs": [
    {
     "name": "stdout",
     "output_type": "stream",
     "text": [
      "CPU times: user 342 ms, sys: 3.13 ms, total: 345 ms\n",
      "Wall time: 59.1 ms\n"
     ]
    },
    {
     "data": {
      "text/plain": [
       "131397465.25506216"
      ]
     },
     "execution_count": 13,
     "metadata": {},
     "output_type": "execute_result"
    }
   ],
   "source": [
    "%%time\n",
    "x_dask_sum = x_dask.sum().compute()\n",
    "x_dask_sum"
   ]
  },
  {
   "cell_type": "markdown",
   "id": "7d2bd61c",
   "metadata": {},
   "source": [
    "# Dask DataFrame"
   ]
  },
  {
   "cell_type": "code",
   "execution_count": 14,
   "id": "280b06f3",
   "metadata": {},
   "outputs": [
    {
     "data": {
      "text/html": [
       "<div>\n",
       "<style scoped>\n",
       "    .dataframe tbody tr th:only-of-type {\n",
       "        vertical-align: middle;\n",
       "    }\n",
       "\n",
       "    .dataframe tbody tr th {\n",
       "        vertical-align: top;\n",
       "    }\n",
       "\n",
       "    .dataframe thead th {\n",
       "        text-align: right;\n",
       "    }\n",
       "</style>\n",
       "<table border=\"1\" class=\"dataframe\">\n",
       "  <thead>\n",
       "    <tr style=\"text-align: right;\">\n",
       "      <th></th>\n",
       "      <th>Customer Lifetime Value</th>\n",
       "      <th>Income</th>\n",
       "      <th>Monthly Premium Auto</th>\n",
       "      <th>Months Since Last Claim</th>\n",
       "      <th>Months Since Policy Inception</th>\n",
       "      <th>Number of Open Complaints</th>\n",
       "      <th>Number of Policies</th>\n",
       "      <th>Response</th>\n",
       "    </tr>\n",
       "  </thead>\n",
       "  <tbody>\n",
       "    <tr>\n",
       "      <th>0</th>\n",
       "      <td>18975.456110</td>\n",
       "      <td>65999</td>\n",
       "      <td>237</td>\n",
       "      <td>1</td>\n",
       "      <td>14</td>\n",
       "      <td>0</td>\n",
       "      <td>6</td>\n",
       "      <td>0</td>\n",
       "    </tr>\n",
       "    <tr>\n",
       "      <th>1</th>\n",
       "      <td>4715.321344</td>\n",
       "      <td>0</td>\n",
       "      <td>65</td>\n",
       "      <td>19</td>\n",
       "      <td>56</td>\n",
       "      <td>0</td>\n",
       "      <td>3</td>\n",
       "      <td>0</td>\n",
       "    </tr>\n",
       "    <tr>\n",
       "      <th>2</th>\n",
       "      <td>5018.885233</td>\n",
       "      <td>54500</td>\n",
       "      <td>63</td>\n",
       "      <td>28</td>\n",
       "      <td>17</td>\n",
       "      <td>0</td>\n",
       "      <td>6</td>\n",
       "      <td>0</td>\n",
       "    </tr>\n",
       "    <tr>\n",
       "      <th>3</th>\n",
       "      <td>4932.916345</td>\n",
       "      <td>37260</td>\n",
       "      <td>62</td>\n",
       "      <td>19</td>\n",
       "      <td>42</td>\n",
       "      <td>0</td>\n",
       "      <td>8</td>\n",
       "      <td>0</td>\n",
       "    </tr>\n",
       "    <tr>\n",
       "      <th>4</th>\n",
       "      <td>5744.229745</td>\n",
       "      <td>68987</td>\n",
       "      <td>71</td>\n",
       "      <td>11</td>\n",
       "      <td>40</td>\n",
       "      <td>0</td>\n",
       "      <td>6</td>\n",
       "      <td>0</td>\n",
       "    </tr>\n",
       "  </tbody>\n",
       "</table>\n",
       "</div>"
      ],
      "text/plain": [
       "   Customer Lifetime Value  Income  Monthly Premium Auto  \\\n",
       "0             18975.456110   65999                   237   \n",
       "1              4715.321344       0                    65   \n",
       "2              5018.885233   54500                    63   \n",
       "3              4932.916345   37260                    62   \n",
       "4              5744.229745   68987                    71   \n",
       "\n",
       "   Months Since Last Claim  Months Since Policy Inception  \\\n",
       "0                        1                             14   \n",
       "1                       19                             56   \n",
       "2                       28                             17   \n",
       "3                       19                             42   \n",
       "4                       11                             40   \n",
       "\n",
       "   Number of Open Complaints  Number of Policies  Response  \n",
       "0                          0                   6         0  \n",
       "1                          0                   3         0  \n",
       "2                          0                   6         0  \n",
       "3                          0                   8         0  \n",
       "4                          0                   6         0  "
      ]
     },
     "execution_count": 14,
     "metadata": {},
     "output_type": "execute_result"
    }
   ],
   "source": [
    "dask_df = dd.read_csv('/home/tigran/Downloads/code/Data/StateFarm.csv', sep=';')\n",
    "dask_df.head()"
   ]
  },
  {
   "cell_type": "code",
   "execution_count": 15,
   "id": "224a4254",
   "metadata": {},
   "outputs": [],
   "source": [
    "df = pd.read_csv('/home/tigran/Downloads/code/Data/StateFarm.csv', sep=';')\n",
    "dask_df2 = dd.from_pandas(df, npartitions=2)"
   ]
  },
  {
   "cell_type": "markdown",
   "id": "33484991",
   "metadata": {},
   "source": [
    "# Dask Bag"
   ]
  },
  {
   "cell_type": "code",
   "execution_count": 16,
   "id": "e214f8e3",
   "metadata": {},
   "outputs": [
    {
     "data": {
      "text/plain": [
       "(1, 2, 3)"
      ]
     },
     "execution_count": 16,
     "metadata": {},
     "output_type": "execute_result"
    }
   ],
   "source": [
    "dask_bag = db.from_sequence([1, 2, 3, 4, 5, 6, 7, 8, 9, 10], npartitions=2)\n",
    "dask_bag.take(3)"
   ]
  },
  {
   "cell_type": "markdown",
   "id": "17ea24b0",
   "metadata": {},
   "source": [
    "# Dask delayed interface"
   ]
  },
  {
   "cell_type": "code",
   "execution_count": 17,
   "id": "d76e0463",
   "metadata": {},
   "outputs": [],
   "source": [
    "def inc(x):\n",
    "    return x + 1\n",
    "\n",
    "def double(x):\n",
    "    return x + 2\n",
    "\n",
    "def add(x, y):\n",
    "    return x + y"
   ]
  },
  {
   "cell_type": "code",
   "execution_count": 18,
   "id": "c80511d1",
   "metadata": {},
   "outputs": [],
   "source": [
    "data = [1, 2, 3, 4, 5]\n",
    "output = []"
   ]
  },
  {
   "cell_type": "code",
   "execution_count": 19,
   "id": "c72501a0",
   "metadata": {},
   "outputs": [],
   "source": [
    "for x in data:\n",
    "    a = inc(x)\n",
    "    b = double(x)\n",
    "    c = add(a, b)\n",
    "    output.append(c)\n",
    "    \n",
    "total = sum(output)"
   ]
  },
  {
   "cell_type": "code",
   "execution_count": 20,
   "id": "e2aee683",
   "metadata": {},
   "outputs": [],
   "source": [
    "output = []\n",
    "\n",
    "for x in data:\n",
    "    a = dask.delayed(inc)(x)\n",
    "    b = dask.delayed(double)(x)\n",
    "    c = dask.delayed(add)(a, b)\n",
    "    output.append(c)\n",
    "    \n",
    "total = dask.delayed(sum)(output)"
   ]
  },
  {
   "cell_type": "code",
   "execution_count": 21,
   "id": "da344160",
   "metadata": {},
   "outputs": [
    {
     "data": {
      "image/png": "[encoded data removed]",
      "text/plain": [
       "<IPython.core.display.Image object>"
      ]
     },
     "execution_count": 21,
     "metadata": {},
     "output_type": "execute_result"
    }
   ],
   "source": [
    "total.visualize()"
   ]
  },
  {
   "cell_type": "code",
   "execution_count": 22,
   "id": "584ff41e",
   "metadata": {},
   "outputs": [
    {
     "data": {
      "text/plain": [
       "45"
      ]
     },
     "execution_count": 22,
     "metadata": {},
     "output_type": "execute_result"
    }
   ],
   "source": [
    "total.compute()"
   ]
  },
  {
   "cell_type": "code",
   "execution_count": 23,
   "id": "8a5d166c",
   "metadata": {},
   "outputs": [
    {
     "name": "stdout",
     "output_type": "stream",
     "text": [
      "45\n"
     ]
    }
   ],
   "source": [
    "@dask.delayed\n",
    "def inc(x):\n",
    "    return x + 1\n",
    "\n",
    "@dask.delayed\n",
    "def double(x):\n",
    "    return x + 2\n",
    "\n",
    "@dask.delayed\n",
    "def add(x, y):\n",
    "    return x + y\n",
    "\n",
    "data = [1, 2, 3, 4, 5]\n",
    "output = []\n",
    "\n",
    "for x in data:\n",
    "    a = inc(x)\n",
    "    b = double(x)\n",
    "    c = add(a, b)\n",
    "    output.append(c)\n",
    "    \n",
    "total = dask.delayed(sum)(output)\n",
    "print(total.compute())"
   ]
  },
  {
   "cell_type": "markdown",
   "id": "4c14dfa3",
   "metadata": {},
   "source": [
    "# Dask-ML"
   ]
  },
  {
   "cell_type": "code",
   "execution_count": 24,
   "id": "5af3f979",
   "metadata": {},
   "outputs": [],
   "source": [
    "import numpy as np\n",
    "import pandas as pd\n",
    "from sklearn.metrics import roc_auc_score, accuracy_score\n",
    "import dask.dataframe as dd\n",
    "from dask_ml.preprocessing import StandardScaler, DummyEncoder, Categorizer\n",
    "from dask_ml.impute import SimpleImputer\n",
    "from dask_ml.model_selection import train_test_split\n",
    "from dask_ml.linear_model import LogisticRegression"
   ]
  },
  {
   "cell_type": "code",
   "execution_count": 25,
   "id": "691e05c6",
   "metadata": {},
   "outputs": [
    {
     "data": {
      "text/html": [
       "<div>\n",
       "<style scoped>\n",
       "    .dataframe tbody tr th:only-of-type {\n",
       "        vertical-align: middle;\n",
       "    }\n",
       "\n",
       "    .dataframe tbody tr th {\n",
       "        vertical-align: top;\n",
       "    }\n",
       "\n",
       "    .dataframe thead th {\n",
       "        text-align: right;\n",
       "    }\n",
       "</style>\n",
       "<table border=\"1\" class=\"dataframe\">\n",
       "  <thead>\n",
       "    <tr style=\"text-align: right;\">\n",
       "      <th></th>\n",
       "      <th>Customer Lifetime Value</th>\n",
       "      <th>Coverage</th>\n",
       "      <th>Education</th>\n",
       "      <th>EmploymentStatus</th>\n",
       "      <th>Gender</th>\n",
       "      <th>Income</th>\n",
       "      <th>Monthly Premium Auto</th>\n",
       "      <th>Months Since Last Claim</th>\n",
       "      <th>Months Since Policy Inception</th>\n",
       "      <th>Number of Open Complaints</th>\n",
       "      <th>Number of Policies</th>\n",
       "      <th>Response</th>\n",
       "    </tr>\n",
       "  </thead>\n",
       "  <tbody>\n",
       "    <tr>\n",
       "      <th>0</th>\n",
       "      <td>2763.519279</td>\n",
       "      <td>Basic</td>\n",
       "      <td>Bachelor</td>\n",
       "      <td>Employed</td>\n",
       "      <td>F</td>\n",
       "      <td>56274.0</td>\n",
       "      <td>NaN</td>\n",
       "      <td>32.0</td>\n",
       "      <td>5.0</td>\n",
       "      <td>NaN</td>\n",
       "      <td>1.0</td>\n",
       "      <td>No</td>\n",
       "    </tr>\n",
       "    <tr>\n",
       "      <th>1</th>\n",
       "      <td>NaN</td>\n",
       "      <td>NaN</td>\n",
       "      <td>Bachelor</td>\n",
       "      <td>Unemployed</td>\n",
       "      <td>F</td>\n",
       "      <td>0.0</td>\n",
       "      <td>NaN</td>\n",
       "      <td>13.0</td>\n",
       "      <td>42.0</td>\n",
       "      <td>NaN</td>\n",
       "      <td>NaN</td>\n",
       "      <td>No</td>\n",
       "    </tr>\n",
       "    <tr>\n",
       "      <th>2</th>\n",
       "      <td>NaN</td>\n",
       "      <td>NaN</td>\n",
       "      <td>NaN</td>\n",
       "      <td>Employed</td>\n",
       "      <td>F</td>\n",
       "      <td>48767.0</td>\n",
       "      <td>108.0</td>\n",
       "      <td>NaN</td>\n",
       "      <td>38.0</td>\n",
       "      <td>0.0</td>\n",
       "      <td>NaN</td>\n",
       "      <td>No</td>\n",
       "    </tr>\n",
       "    <tr>\n",
       "      <th>3</th>\n",
       "      <td>7645.861827</td>\n",
       "      <td>Basic</td>\n",
       "      <td>Bachelor</td>\n",
       "      <td>NaN</td>\n",
       "      <td>NaN</td>\n",
       "      <td>0.0</td>\n",
       "      <td>106.0</td>\n",
       "      <td>18.0</td>\n",
       "      <td>NaN</td>\n",
       "      <td>NaN</td>\n",
       "      <td>7.0</td>\n",
       "      <td>No</td>\n",
       "    </tr>\n",
       "    <tr>\n",
       "      <th>4</th>\n",
       "      <td>2813.692575</td>\n",
       "      <td>Basic</td>\n",
       "      <td>Bachelor</td>\n",
       "      <td>NaN</td>\n",
       "      <td>M</td>\n",
       "      <td>43836.0</td>\n",
       "      <td>73.0</td>\n",
       "      <td>12.0</td>\n",
       "      <td>NaN</td>\n",
       "      <td>NaN</td>\n",
       "      <td>1.0</td>\n",
       "      <td>No</td>\n",
       "    </tr>\n",
       "  </tbody>\n",
       "</table>\n",
       "</div>"
      ],
      "text/plain": [
       "   Customer Lifetime Value Coverage Education EmploymentStatus Gender  \\\n",
       "0              2763.519279    Basic  Bachelor         Employed      F   \n",
       "1                      NaN      NaN  Bachelor       Unemployed      F   \n",
       "2                      NaN      NaN       NaN         Employed      F   \n",
       "3              7645.861827    Basic  Bachelor              NaN    NaN   \n",
       "4              2813.692575    Basic  Bachelor              NaN      M   \n",
       "\n",
       "    Income  Monthly Premium Auto  Months Since Last Claim  \\\n",
       "0  56274.0                   NaN                     32.0   \n",
       "1      0.0                   NaN                     13.0   \n",
       "2  48767.0                 108.0                      NaN   \n",
       "3      0.0                 106.0                     18.0   \n",
       "4  43836.0                  73.0                     12.0   \n",
       "\n",
       "   Months Since Policy Inception  Number of Open Complaints  \\\n",
       "0                            5.0                        NaN   \n",
       "1                           42.0                        NaN   \n",
       "2                           38.0                        0.0   \n",
       "3                            NaN                        NaN   \n",
       "4                            NaN                        NaN   \n",
       "\n",
       "   Number of Policies Response  \n",
       "0                 1.0       No  \n",
       "1                 NaN       No  \n",
       "2                 NaN       No  \n",
       "3                 7.0       No  \n",
       "4                 1.0       No  "
      ]
     },
     "execution_count": 25,
     "metadata": {},
     "output_type": "execute_result"
    }
   ],
   "source": [
    "df_dask = dd.read_csv('/home/tigran/Downloads/code/Data/StateFarm_missing.csv', sep=';')\n",
    "df_dask.head()"
   ]
  },
  {
   "cell_type": "code",
   "execution_count": 26,
   "id": "c9015b28",
   "metadata": {},
   "outputs": [
    {
     "data": {
      "text/plain": [
       "dask.dataframe.core.DataFrame"
      ]
     },
     "execution_count": 26,
     "metadata": {},
     "output_type": "execute_result"
    }
   ],
   "source": [
    "type(df_dask)"
   ]
  },
  {
   "cell_type": "code",
   "execution_count": 27,
   "id": "caa4ccb4",
   "metadata": {},
   "outputs": [
    {
     "data": {
      "text/plain": [
       "(8293, 12)"
      ]
     },
     "execution_count": 27,
     "metadata": {},
     "output_type": "execute_result"
    }
   ],
   "source": [
    "len(df_dask), len(df_dask.count())"
   ]
  },
  {
   "cell_type": "code",
   "execution_count": 28,
   "id": "3c213208",
   "metadata": {},
   "outputs": [
    {
     "data": {
      "text/html": [
       "<div>\n",
       "<style scoped>\n",
       "    .dataframe tbody tr th:only-of-type {\n",
       "        vertical-align: middle;\n",
       "    }\n",
       "\n",
       "    .dataframe tbody tr th {\n",
       "        vertical-align: top;\n",
       "    }\n",
       "\n",
       "    .dataframe thead th {\n",
       "        text-align: right;\n",
       "    }\n",
       "</style>\n",
       "<table border=\"1\" class=\"dataframe\">\n",
       "  <thead>\n",
       "    <tr style=\"text-align: right;\">\n",
       "      <th></th>\n",
       "      <th>Customer Lifetime Value</th>\n",
       "      <th>Income</th>\n",
       "      <th>Monthly Premium Auto</th>\n",
       "      <th>Months Since Last Claim</th>\n",
       "      <th>Months Since Policy Inception</th>\n",
       "      <th>Number of Open Complaints</th>\n",
       "      <th>Number of Policies</th>\n",
       "    </tr>\n",
       "  </thead>\n",
       "  <tbody>\n",
       "    <tr>\n",
       "      <th>count</th>\n",
       "      <td>8289.000000</td>\n",
       "      <td>8291.000000</td>\n",
       "      <td>8282.000000</td>\n",
       "      <td>8288.000000</td>\n",
       "      <td>8285.000000</td>\n",
       "      <td>8287.000000</td>\n",
       "      <td>8288.000000</td>\n",
       "    </tr>\n",
       "    <tr>\n",
       "      <th>mean</th>\n",
       "      <td>7987.650889</td>\n",
       "      <td>37785.171994</td>\n",
       "      <td>93.198865</td>\n",
       "      <td>15.079875</td>\n",
       "      <td>48.138081</td>\n",
       "      <td>0.389767</td>\n",
       "      <td>2.964768</td>\n",
       "    </tr>\n",
       "    <tr>\n",
       "      <th>std</th>\n",
       "      <td>6841.535432</td>\n",
       "      <td>30396.251967</td>\n",
       "      <td>34.514287</td>\n",
       "      <td>10.093847</td>\n",
       "      <td>27.827103</td>\n",
       "      <td>0.915515</td>\n",
       "      <td>2.389635</td>\n",
       "    </tr>\n",
       "    <tr>\n",
       "      <th>min</th>\n",
       "      <td>1898.007675</td>\n",
       "      <td>0.000000</td>\n",
       "      <td>61.000000</td>\n",
       "      <td>0.000000</td>\n",
       "      <td>0.000000</td>\n",
       "      <td>0.000000</td>\n",
       "      <td>1.000000</td>\n",
       "    </tr>\n",
       "    <tr>\n",
       "      <th>25%</th>\n",
       "      <td>3982.180708</td>\n",
       "      <td>0.000000</td>\n",
       "      <td>68.000000</td>\n",
       "      <td>6.000000</td>\n",
       "      <td>24.000000</td>\n",
       "      <td>0.000000</td>\n",
       "      <td>1.000000</td>\n",
       "    </tr>\n",
       "    <tr>\n",
       "      <th>50%</th>\n",
       "      <td>5786.493980</td>\n",
       "      <td>34220.000000</td>\n",
       "      <td>83.000000</td>\n",
       "      <td>14.000000</td>\n",
       "      <td>48.000000</td>\n",
       "      <td>0.000000</td>\n",
       "      <td>2.000000</td>\n",
       "    </tr>\n",
       "    <tr>\n",
       "      <th>75%</th>\n",
       "      <td>8960.280213</td>\n",
       "      <td>62450.000000</td>\n",
       "      <td>109.000000</td>\n",
       "      <td>23.000000</td>\n",
       "      <td>71.000000</td>\n",
       "      <td>0.000000</td>\n",
       "      <td>4.000000</td>\n",
       "    </tr>\n",
       "    <tr>\n",
       "      <th>max</th>\n",
       "      <td>83325.381190</td>\n",
       "      <td>99981.000000</td>\n",
       "      <td>298.000000</td>\n",
       "      <td>35.000000</td>\n",
       "      <td>99.000000</td>\n",
       "      <td>5.000000</td>\n",
       "      <td>9.000000</td>\n",
       "    </tr>\n",
       "  </tbody>\n",
       "</table>\n",
       "</div>"
      ],
      "text/plain": [
       "       Customer Lifetime Value        Income  Monthly Premium Auto  \\\n",
       "count              8289.000000   8291.000000           8282.000000   \n",
       "mean               7987.650889  37785.171994             93.198865   \n",
       "std                6841.535432  30396.251967             34.514287   \n",
       "min                1898.007675      0.000000             61.000000   \n",
       "25%                3982.180708      0.000000             68.000000   \n",
       "50%                5786.493980  34220.000000             83.000000   \n",
       "75%                8960.280213  62450.000000            109.000000   \n",
       "max               83325.381190  99981.000000            298.000000   \n",
       "\n",
       "       Months Since Last Claim  Months Since Policy Inception  \\\n",
       "count              8288.000000                    8285.000000   \n",
       "mean                 15.079875                      48.138081   \n",
       "std                  10.093847                      27.827103   \n",
       "min                   0.000000                       0.000000   \n",
       "25%                   6.000000                      24.000000   \n",
       "50%                  14.000000                      48.000000   \n",
       "75%                  23.000000                      71.000000   \n",
       "max                  35.000000                      99.000000   \n",
       "\n",
       "       Number of Open Complaints  Number of Policies  \n",
       "count                8287.000000         8288.000000  \n",
       "mean                    0.389767            2.964768  \n",
       "std                     0.915515            2.389635  \n",
       "min                     0.000000            1.000000  \n",
       "25%                     0.000000            1.000000  \n",
       "50%                     0.000000            2.000000  \n",
       "75%                     0.000000            4.000000  \n",
       "max                     5.000000            9.000000  "
      ]
     },
     "execution_count": 28,
     "metadata": {},
     "output_type": "execute_result"
    }
   ],
   "source": [
    "df_dask.describe().compute()"
   ]
  },
  {
   "cell_type": "code",
   "execution_count": 29,
   "id": "e2f530ea",
   "metadata": {},
   "outputs": [
    {
     "name": "stdout",
     "output_type": "stream",
     "text": [
      "['Customer Lifetime Value', 'Coverage', 'Education', 'EmploymentStatus', 'Gender', 'Income', 'Monthly Premium Auto', 'Months Since Last Claim', 'Months Since Policy Inception', 'Number of Open Complaints', 'Number of Policies', 'Response']\n"
     ]
    }
   ],
   "source": [
    "print(df_dask.columns.tolist())"
   ]
  },
  {
   "cell_type": "code",
   "execution_count": 30,
   "id": "743b33f3",
   "metadata": {},
   "outputs": [
    {
     "data": {
      "text/plain": [
       "Customer Lifetime Value           4\n",
       "Coverage                          5\n",
       "Education                         3\n",
       "EmploymentStatus                  5\n",
       "Gender                            4\n",
       "Income                            2\n",
       "Monthly Premium Auto             11\n",
       "Months Since Last Claim           5\n",
       "Months Since Policy Inception     8\n",
       "Number of Open Complaints         6\n",
       "Number of Policies                5\n",
       "Response                          0\n",
       "dtype: int64"
      ]
     },
     "execution_count": 30,
     "metadata": {},
     "output_type": "execute_result"
    }
   ],
   "source": [
    "df_dask.isnull().compute().sum()"
   ]
  },
  {
   "cell_type": "code",
   "execution_count": 31,
   "id": "f39e2e57",
   "metadata": {},
   "outputs": [
    {
     "data": {
      "text/plain": [
       "Customer Lifetime Value          float64\n",
       "Coverage                          object\n",
       "Education                         object\n",
       "EmploymentStatus                  object\n",
       "Gender                            object\n",
       "Income                           float64\n",
       "Monthly Premium Auto             float64\n",
       "Months Since Last Claim          float64\n",
       "Months Since Policy Inception    float64\n",
       "Number of Open Complaints        float64\n",
       "Number of Policies               float64\n",
       "Response                          object\n",
       "dtype: object"
      ]
     },
     "execution_count": 31,
     "metadata": {},
     "output_type": "execute_result"
    }
   ],
   "source": [
    "df_dask.dtypes"
   ]
  },
  {
   "cell_type": "code",
   "execution_count": 32,
   "id": "687647e0",
   "metadata": {},
   "outputs": [
    {
     "data": {
      "text/plain": [
       "['Coverage', 'Education', 'EmploymentStatus', 'Gender', 'Response']"
      ]
     },
     "execution_count": 32,
     "metadata": {},
     "output_type": "execute_result"
    }
   ],
   "source": [
    "cat_columns = df_dask.select_dtypes(include='object').columns.tolist()\n",
    "cat_columns"
   ]
  },
  {
   "cell_type": "code",
   "execution_count": 33,
   "id": "67c2098f",
   "metadata": {},
   "outputs": [
    {
     "data": {
      "text/html": [
       "<div>\n",
       "<style scoped>\n",
       "    .dataframe tbody tr th:only-of-type {\n",
       "        vertical-align: middle;\n",
       "    }\n",
       "\n",
       "    .dataframe tbody tr th {\n",
       "        vertical-align: top;\n",
       "    }\n",
       "\n",
       "    .dataframe thead th {\n",
       "        text-align: right;\n",
       "    }\n",
       "</style>\n",
       "<table border=\"1\" class=\"dataframe\">\n",
       "  <thead>\n",
       "    <tr style=\"text-align: right;\">\n",
       "      <th></th>\n",
       "      <th>Coverage</th>\n",
       "      <th>Education</th>\n",
       "      <th>EmploymentStatus</th>\n",
       "      <th>Gender</th>\n",
       "      <th>Response</th>\n",
       "    </tr>\n",
       "  </thead>\n",
       "  <tbody>\n",
       "    <tr>\n",
       "      <th>unique</th>\n",
       "      <td>3</td>\n",
       "      <td>5</td>\n",
       "      <td>5</td>\n",
       "      <td>2</td>\n",
       "      <td>2</td>\n",
       "    </tr>\n",
       "    <tr>\n",
       "      <th>count</th>\n",
       "      <td>8288</td>\n",
       "      <td>8290</td>\n",
       "      <td>8288</td>\n",
       "      <td>8289</td>\n",
       "      <td>8293</td>\n",
       "    </tr>\n",
       "    <tr>\n",
       "      <th>top</th>\n",
       "      <td>Basic</td>\n",
       "      <td>Bachelor</td>\n",
       "      <td>Employed</td>\n",
       "      <td>F</td>\n",
       "      <td>No</td>\n",
       "    </tr>\n",
       "    <tr>\n",
       "      <th>freq</th>\n",
       "      <td>5038</td>\n",
       "      <td>2496</td>\n",
       "      <td>5187</td>\n",
       "      <td>4250</td>\n",
       "      <td>7462</td>\n",
       "    </tr>\n",
       "  </tbody>\n",
       "</table>\n",
       "</div>"
      ],
      "text/plain": [
       "       Coverage Education EmploymentStatus Gender Response\n",
       "unique        3         5                5      2        2\n",
       "count      8288      8290             8288   8289     8293\n",
       "top       Basic  Bachelor         Employed      F       No\n",
       "freq       5038      2496             5187   4250     7462"
      ]
     },
     "execution_count": 33,
     "metadata": {},
     "output_type": "execute_result"
    }
   ],
   "source": [
    "df_dask[cat_columns].describe().compute()"
   ]
  },
  {
   "cell_type": "code",
   "execution_count": 34,
   "id": "33f2e261",
   "metadata": {},
   "outputs": [],
   "source": [
    "cat = Categorizer(columns=cat_columns)\n",
    "df_dask = cat.fit_transform(df_dask)"
   ]
  },
  {
   "cell_type": "code",
   "execution_count": 35,
   "id": "cf552bfb",
   "metadata": {},
   "outputs": [],
   "source": [
    "dct = {'No': 0, 'Yes': 1}\n",
    "df_dask['Response'] = df_dask['Response'].replace(dct)"
   ]
  },
  {
   "cell_type": "code",
   "execution_count": 36,
   "id": "53327769",
   "metadata": {},
   "outputs": [
    {
     "name": "stdout",
     "output_type": "stream",
     "text": [
      "Basic       5038\n",
      "Extended    2501\n",
      "Premium      749\n",
      "Name: Coverage, dtype: int64\n",
      "Bachelor                2496\n",
      "College                 2421\n",
      "High School or Below    2397\n",
      "Master                   659\n",
      "Doctor                   317\n",
      "Name: Education, dtype: int64\n",
      "Employed         5187\n",
      "Unemployed       2095\n",
      "Medical Leave     392\n",
      "Disabled          362\n",
      "Retired           252\n",
      "Name: EmploymentStatus, dtype: int64\n",
      "F    4250\n",
      "M    4039\n",
      "Name: Gender, dtype: int64\n",
      "0    7462\n",
      "1     831\n",
      "Name: Response, dtype: int64\n"
     ]
    }
   ],
   "source": [
    "for col in cat_columns:\n",
    "    print(df_dask[col].value_counts().compute())"
   ]
  },
  {
   "cell_type": "code",
   "execution_count": 37,
   "id": "7f3ac77b",
   "metadata": {},
   "outputs": [],
   "source": [
    "y_dask = df_dask.pop('Response')"
   ]
  },
  {
   "cell_type": "code",
   "execution_count": 38,
   "id": "084ba05a",
   "metadata": {},
   "outputs": [],
   "source": [
    "X_train, X_test, y_train, y_test = train_test_split(df_dask, y_dask, test_size=0.3, shuffle=True, random_state=42)"
   ]
  },
  {
   "cell_type": "code",
   "execution_count": 39,
   "id": "078facfa",
   "metadata": {},
   "outputs": [
    {
     "data": {
      "text/plain": [
       "['Customer Lifetime Value',\n",
       " 'Income',\n",
       " 'Monthly Premium Auto',\n",
       " 'Months Since Last Claim',\n",
       " 'Months Since Policy Inception',\n",
       " 'Number of Open Complaints',\n",
       " 'Number of Policies']"
      ]
     },
     "execution_count": 39,
     "metadata": {},
     "output_type": "execute_result"
    }
   ],
   "source": [
    "num_columns = X_train.select_dtypes(include='number').columns.tolist()\n",
    "num_columns"
   ]
  },
  {
   "cell_type": "code",
   "execution_count": 40,
   "id": "9e364fe1",
   "metadata": {},
   "outputs": [],
   "source": [
    "num_imputer = SimpleImputer(strategy='median')\n",
    "num_imputer.fit(X_train[num_columns])\n",
    "\n",
    "X_train[num_columns] = num_imputer.transform(X_train[num_columns])\n",
    "X_test[num_columns] = num_imputer.transform(X_test[num_columns])"
   ]
  },
  {
   "cell_type": "code",
   "execution_count": 43,
   "id": "dc0b77b9",
   "metadata": {},
   "outputs": [],
   "source": [
    "cat_columns.pop()\n",
    "\n",
    "cat_imputer = SimpleImputer(strategy='most_frequent')\n",
    "cat_imputer.fit(X_train[cat_columns])\n",
    "\n",
    "X_train[cat_columns] = cat_imputer.transform(X_train[cat_columns])\n",
    "X_test[cat_columns] = cat_imputer.transform(X_test[cat_columns])"
   ]
  },
  {
   "cell_type": "code",
   "execution_count": 44,
   "id": "7969f457",
   "metadata": {},
   "outputs": [
    {
     "data": {
      "text/plain": [
       "['Coverage', 'Education', 'EmploymentStatus', 'Gender']"
      ]
     },
     "execution_count": 44,
     "metadata": {},
     "output_type": "execute_result"
    }
   ],
   "source": [
    "cat_columns"
   ]
  },
  {
   "cell_type": "code",
   "execution_count": 46,
   "id": "0f35764c",
   "metadata": {},
   "outputs": [
    {
     "name": "stdout",
     "output_type": "stream",
     "text": [
      "0\n",
      "0\n"
     ]
    }
   ],
   "source": [
    "print(X_train.isnull().compute().sum().sum())\n",
    "print(X_test.isnull().compute().sum().sum())"
   ]
  },
  {
   "cell_type": "code",
   "execution_count": 47,
   "id": "5a565dcd",
   "metadata": {},
   "outputs": [],
   "source": [
    "scaler = StandardScaler()\n",
    "scaler.fit(X_train[num_columns])\n",
    "\n",
    "X_train[num_columns] = scaler.transform(X_train[num_columns])\n",
    "X_test[num_columns] = scaler.transform(X_train[num_columns])"
   ]
  },
  {
   "cell_type": "code",
   "execution_count": 48,
   "id": "dfd0331f",
   "metadata": {},
   "outputs": [
    {
     "data": {
      "text/html": [
       "<div>\n",
       "<style scoped>\n",
       "    .dataframe tbody tr th:only-of-type {\n",
       "        vertical-align: middle;\n",
       "    }\n",
       "\n",
       "    .dataframe tbody tr th {\n",
       "        vertical-align: top;\n",
       "    }\n",
       "\n",
       "    .dataframe thead th {\n",
       "        text-align: right;\n",
       "    }\n",
       "</style>\n",
       "<table border=\"1\" class=\"dataframe\">\n",
       "  <thead>\n",
       "    <tr style=\"text-align: right;\">\n",
       "      <th></th>\n",
       "      <th>Customer Lifetime Value</th>\n",
       "      <th>Income</th>\n",
       "      <th>Monthly Premium Auto</th>\n",
       "      <th>Months Since Last Claim</th>\n",
       "      <th>Months Since Policy Inception</th>\n",
       "      <th>Number of Open Complaints</th>\n",
       "      <th>Number of Policies</th>\n",
       "      <th>Coverage_Basic</th>\n",
       "      <th>Coverage_Premium</th>\n",
       "      <th>Coverage_Extended</th>\n",
       "      <th>...</th>\n",
       "      <th>Education_Master</th>\n",
       "      <th>Education_High School or Below</th>\n",
       "      <th>Education_Doctor</th>\n",
       "      <th>EmploymentStatus_Employed</th>\n",
       "      <th>EmploymentStatus_Unemployed</th>\n",
       "      <th>EmploymentStatus_Medical Leave</th>\n",
       "      <th>EmploymentStatus_Disabled</th>\n",
       "      <th>EmploymentStatus_Retired</th>\n",
       "      <th>Gender_F</th>\n",
       "      <th>Gender_M</th>\n",
       "    </tr>\n",
       "  </thead>\n",
       "  <tbody>\n",
       "    <tr>\n",
       "      <th>5665</th>\n",
       "      <td>-0.435967</td>\n",
       "      <td>-0.489744</td>\n",
       "      <td>-0.820202</td>\n",
       "      <td>0.493984</td>\n",
       "      <td>0.168462</td>\n",
       "      <td>-0.420026</td>\n",
       "      <td>2.521122</td>\n",
       "      <td>1</td>\n",
       "      <td>0</td>\n",
       "      <td>0</td>\n",
       "      <td>...</td>\n",
       "      <td>0</td>\n",
       "      <td>0</td>\n",
       "      <td>0</td>\n",
       "      <td>0</td>\n",
       "      <td>0</td>\n",
       "      <td>1</td>\n",
       "      <td>0</td>\n",
       "      <td>0</td>\n",
       "      <td>0</td>\n",
       "      <td>1</td>\n",
       "    </tr>\n",
       "    <tr>\n",
       "      <th>3273</th>\n",
       "      <td>1.263635</td>\n",
       "      <td>-0.465154</td>\n",
       "      <td>3.462868</td>\n",
       "      <td>1.489298</td>\n",
       "      <td>-1.265742</td>\n",
       "      <td>-0.420026</td>\n",
       "      <td>1.267090</td>\n",
       "      <td>0</td>\n",
       "      <td>0</td>\n",
       "      <td>1</td>\n",
       "      <td>...</td>\n",
       "      <td>0</td>\n",
       "      <td>0</td>\n",
       "      <td>0</td>\n",
       "      <td>1</td>\n",
       "      <td>0</td>\n",
       "      <td>0</td>\n",
       "      <td>0</td>\n",
       "      <td>0</td>\n",
       "      <td>0</td>\n",
       "      <td>1</td>\n",
       "    </tr>\n",
       "    <tr>\n",
       "      <th>6804</th>\n",
       "      <td>0.231320</td>\n",
       "      <td>-1.241654</td>\n",
       "      <td>-0.174808</td>\n",
       "      <td>-0.202736</td>\n",
       "      <td>0.993130</td>\n",
       "      <td>-0.420026</td>\n",
       "      <td>-0.404952</td>\n",
       "      <td>0</td>\n",
       "      <td>0</td>\n",
       "      <td>1</td>\n",
       "      <td>...</td>\n",
       "      <td>0</td>\n",
       "      <td>0</td>\n",
       "      <td>0</td>\n",
       "      <td>0</td>\n",
       "      <td>1</td>\n",
       "      <td>0</td>\n",
       "      <td>0</td>\n",
       "      <td>0</td>\n",
       "      <td>1</td>\n",
       "      <td>0</td>\n",
       "    </tr>\n",
       "    <tr>\n",
       "      <th>4106</th>\n",
       "      <td>0.172931</td>\n",
       "      <td>0.616429</td>\n",
       "      <td>0.617267</td>\n",
       "      <td>-1.297581</td>\n",
       "      <td>-1.445017</td>\n",
       "      <td>-0.420026</td>\n",
       "      <td>0.013058</td>\n",
       "      <td>1</td>\n",
       "      <td>0</td>\n",
       "      <td>0</td>\n",
       "      <td>...</td>\n",
       "      <td>0</td>\n",
       "      <td>1</td>\n",
       "      <td>0</td>\n",
       "      <td>1</td>\n",
       "      <td>0</td>\n",
       "      <td>0</td>\n",
       "      <td>0</td>\n",
       "      <td>0</td>\n",
       "      <td>1</td>\n",
       "      <td>0</td>\n",
       "    </tr>\n",
       "    <tr>\n",
       "      <th>5495</th>\n",
       "      <td>0.025953</td>\n",
       "      <td>0.131054</td>\n",
       "      <td>-0.732194</td>\n",
       "      <td>0.095858</td>\n",
       "      <td>0.921420</td>\n",
       "      <td>-0.420026</td>\n",
       "      <td>-0.404952</td>\n",
       "      <td>1</td>\n",
       "      <td>0</td>\n",
       "      <td>0</td>\n",
       "      <td>...</td>\n",
       "      <td>0</td>\n",
       "      <td>1</td>\n",
       "      <td>0</td>\n",
       "      <td>1</td>\n",
       "      <td>0</td>\n",
       "      <td>0</td>\n",
       "      <td>0</td>\n",
       "      <td>0</td>\n",
       "      <td>1</td>\n",
       "      <td>0</td>\n",
       "    </tr>\n",
       "  </tbody>\n",
       "</table>\n",
       "<p>5 rows × 22 columns</p>\n",
       "</div>"
      ],
      "text/plain": [
       "      Customer Lifetime Value    Income  Monthly Premium Auto  \\\n",
       "5665                -0.435967 -0.489744             -0.820202   \n",
       "3273                 1.263635 -0.465154              3.462868   \n",
       "6804                 0.231320 -1.241654             -0.174808   \n",
       "4106                 0.172931  0.616429              0.617267   \n",
       "5495                 0.025953  0.131054             -0.732194   \n",
       "\n",
       "      Months Since Last Claim  Months Since Policy Inception  \\\n",
       "5665                 0.493984                       0.168462   \n",
       "3273                 1.489298                      -1.265742   \n",
       "6804                -0.202736                       0.993130   \n",
       "4106                -1.297581                      -1.445017   \n",
       "5495                 0.095858                       0.921420   \n",
       "\n",
       "      Number of Open Complaints  Number of Policies  Coverage_Basic  \\\n",
       "5665                  -0.420026            2.521122               1   \n",
       "3273                  -0.420026            1.267090               0   \n",
       "6804                  -0.420026           -0.404952               0   \n",
       "4106                  -0.420026            0.013058               1   \n",
       "5495                  -0.420026           -0.404952               1   \n",
       "\n",
       "      Coverage_Premium  Coverage_Extended  ...  Education_Master  \\\n",
       "5665                 0                  0  ...                 0   \n",
       "3273                 0                  1  ...                 0   \n",
       "6804                 0                  1  ...                 0   \n",
       "4106                 0                  0  ...                 0   \n",
       "5495                 0                  0  ...                 0   \n",
       "\n",
       "      Education_High School or Below  Education_Doctor  \\\n",
       "5665                               0                 0   \n",
       "3273                               0                 0   \n",
       "6804                               0                 0   \n",
       "4106                               1                 0   \n",
       "5495                               1                 0   \n",
       "\n",
       "      EmploymentStatus_Employed  EmploymentStatus_Unemployed  \\\n",
       "5665                          0                            0   \n",
       "3273                          1                            0   \n",
       "6804                          0                            1   \n",
       "4106                          1                            0   \n",
       "5495                          1                            0   \n",
       "\n",
       "      EmploymentStatus_Medical Leave  EmploymentStatus_Disabled  \\\n",
       "5665                               1                          0   \n",
       "3273                               0                          0   \n",
       "6804                               0                          0   \n",
       "4106                               0                          0   \n",
       "5495                               0                          0   \n",
       "\n",
       "      EmploymentStatus_Retired  Gender_F  Gender_M  \n",
       "5665                         0         0         1  \n",
       "3273                         0         0         1  \n",
       "6804                         0         1         0  \n",
       "4106                         0         1         0  \n",
       "5495                         0         1         0  \n",
       "\n",
       "[5 rows x 22 columns]"
      ]
     },
     "execution_count": 48,
     "metadata": {},
     "output_type": "execute_result"
    }
   ],
   "source": [
    "dum = DummyEncoder()\n",
    "dum.fit(X_train)\n",
    "\n",
    "X_train = dum.transform(X_train)\n",
    "X_test = dum.transform(X_test)\n",
    "\n",
    "X_train.head()"
   ]
  },
  {
   "cell_type": "code",
   "execution_count": 67,
   "id": "19626b01",
   "metadata": {},
   "outputs": [
    {
     "data": {
      "text/plain": [
       "9.002837454398054e-01"
      ]
     },
     "execution_count": 67,
     "metadata": {},
     "output_type": "execute_result"
    }
   ],
   "source": [
    "y_train = y_train.astype('int')\n",
    "y_test = y_test.astype('int')\n",
    "logreg = LogisticRegression(fit_intercept=False, n_jobs=-1)\n",
    "logreg.fit(X_train.to_dask_array(lengths=True), y_train.to_dask_array(lengths=True))\n",
    "logreg.score(X_test.to_dask_array(lengths=True), y_test.to_dask_array(lengths=True)).compute()"
   ]
  },
  {
   "cell_type": "code",
   "execution_count": 68,
   "id": "3a937e6d",
   "metadata": {},
   "outputs": [
    {
     "data": {
      "text/plain": [
       "9.002837454398054e-01"
      ]
     },
     "execution_count": 68,
     "metadata": {},
     "output_type": "execute_result"
    }
   ],
   "source": [
    "pred = logreg.predict(X_test.to_dask_array(lengths=True)).compute()\n",
    "accuracy_score(y_test, pred)"
   ]
  },
  {
   "cell_type": "markdown",
   "id": "349dee43",
   "metadata": {},
   "source": [
    "# Dask Pipeline"
   ]
  },
  {
   "cell_type": "code",
   "execution_count": 71,
   "id": "153fad54",
   "metadata": {},
   "outputs": [],
   "source": [
    "import numpy as np\n",
    "import pandas as pd\n",
    "import dask.dataframe as dd\n",
    "from dask_ml.preprocessing import StandardScaler, DummyEncoder, Categorizer\n",
    "from dask_ml.impute import SimpleImputer\n",
    "\n",
    "from pandas.api.types import CategoricalDtype\n",
    "from sklearn.compose import ColumnTransformer\n",
    "from sklearn.pipeline import Pipeline\n",
    "from dask_ml.linear_model import LogisticRegression\n",
    "from sklearn.metrics import accuracy_score\n",
    "from dask_ml.model_selection import train_test_split"
   ]
  },
  {
   "cell_type": "code",
   "execution_count": 73,
   "id": "dd65693a",
   "metadata": {},
   "outputs": [
    {
     "data": {
      "text/html": [
       "<div>\n",
       "<style scoped>\n",
       "    .dataframe tbody tr th:only-of-type {\n",
       "        vertical-align: middle;\n",
       "    }\n",
       "\n",
       "    .dataframe tbody tr th {\n",
       "        vertical-align: top;\n",
       "    }\n",
       "\n",
       "    .dataframe thead th {\n",
       "        text-align: right;\n",
       "    }\n",
       "</style>\n",
       "<table border=\"1\" class=\"dataframe\">\n",
       "  <thead>\n",
       "    <tr style=\"text-align: right;\">\n",
       "      <th></th>\n",
       "      <th>Customer Lifetime Value</th>\n",
       "      <th>Coverage</th>\n",
       "      <th>Education</th>\n",
       "      <th>EmploymentStatus</th>\n",
       "      <th>Gender</th>\n",
       "      <th>Income</th>\n",
       "      <th>Monthly Premium Auto</th>\n",
       "      <th>Months Since Last Claim</th>\n",
       "      <th>Months Since Policy Inception</th>\n",
       "      <th>Number of Open Complaints</th>\n",
       "      <th>Number of Policies</th>\n",
       "      <th>Response</th>\n",
       "    </tr>\n",
       "  </thead>\n",
       "  <tbody>\n",
       "    <tr>\n",
       "      <th>0</th>\n",
       "      <td>2763.519279</td>\n",
       "      <td>Basic</td>\n",
       "      <td>Bachelor</td>\n",
       "      <td>Employed</td>\n",
       "      <td>F</td>\n",
       "      <td>56274.0</td>\n",
       "      <td>NaN</td>\n",
       "      <td>32.0</td>\n",
       "      <td>5.0</td>\n",
       "      <td>NaN</td>\n",
       "      <td>1.0</td>\n",
       "      <td>No</td>\n",
       "    </tr>\n",
       "    <tr>\n",
       "      <th>1</th>\n",
       "      <td>NaN</td>\n",
       "      <td>NaN</td>\n",
       "      <td>Bachelor</td>\n",
       "      <td>Unemployed</td>\n",
       "      <td>F</td>\n",
       "      <td>0.0</td>\n",
       "      <td>NaN</td>\n",
       "      <td>13.0</td>\n",
       "      <td>42.0</td>\n",
       "      <td>NaN</td>\n",
       "      <td>NaN</td>\n",
       "      <td>No</td>\n",
       "    </tr>\n",
       "    <tr>\n",
       "      <th>2</th>\n",
       "      <td>NaN</td>\n",
       "      <td>NaN</td>\n",
       "      <td>NaN</td>\n",
       "      <td>Employed</td>\n",
       "      <td>F</td>\n",
       "      <td>48767.0</td>\n",
       "      <td>108.0</td>\n",
       "      <td>NaN</td>\n",
       "      <td>38.0</td>\n",
       "      <td>0.0</td>\n",
       "      <td>NaN</td>\n",
       "      <td>No</td>\n",
       "    </tr>\n",
       "    <tr>\n",
       "      <th>3</th>\n",
       "      <td>7645.861827</td>\n",
       "      <td>Basic</td>\n",
       "      <td>Bachelor</td>\n",
       "      <td>NaN</td>\n",
       "      <td>NaN</td>\n",
       "      <td>0.0</td>\n",
       "      <td>106.0</td>\n",
       "      <td>18.0</td>\n",
       "      <td>NaN</td>\n",
       "      <td>NaN</td>\n",
       "      <td>7.0</td>\n",
       "      <td>No</td>\n",
       "    </tr>\n",
       "    <tr>\n",
       "      <th>4</th>\n",
       "      <td>2813.692575</td>\n",
       "      <td>Basic</td>\n",
       "      <td>Bachelor</td>\n",
       "      <td>NaN</td>\n",
       "      <td>M</td>\n",
       "      <td>43836.0</td>\n",
       "      <td>73.0</td>\n",
       "      <td>12.0</td>\n",
       "      <td>NaN</td>\n",
       "      <td>NaN</td>\n",
       "      <td>1.0</td>\n",
       "      <td>No</td>\n",
       "    </tr>\n",
       "  </tbody>\n",
       "</table>\n",
       "</div>"
      ],
      "text/plain": [
       "   Customer Lifetime Value Coverage Education EmploymentStatus Gender  \\\n",
       "0              2763.519279    Basic  Bachelor         Employed      F   \n",
       "1                      NaN      NaN  Bachelor       Unemployed      F   \n",
       "2                      NaN      NaN       NaN         Employed      F   \n",
       "3              7645.861827    Basic  Bachelor              NaN    NaN   \n",
       "4              2813.692575    Basic  Bachelor              NaN      M   \n",
       "\n",
       "    Income  Monthly Premium Auto  Months Since Last Claim  \\\n",
       "0  56274.0                   NaN                     32.0   \n",
       "1      0.0                   NaN                     13.0   \n",
       "2  48767.0                 108.0                      NaN   \n",
       "3      0.0                 106.0                     18.0   \n",
       "4  43836.0                  73.0                     12.0   \n",
       "\n",
       "   Months Since Policy Inception  Number of Open Complaints  \\\n",
       "0                            5.0                        NaN   \n",
       "1                           42.0                        NaN   \n",
       "2                           38.0                        0.0   \n",
       "3                            NaN                        NaN   \n",
       "4                            NaN                        NaN   \n",
       "\n",
       "   Number of Policies Response  \n",
       "0                 1.0       No  \n",
       "1                 NaN       No  \n",
       "2                 NaN       No  \n",
       "3                 7.0       No  \n",
       "4                 1.0       No  "
      ]
     },
     "execution_count": 73,
     "metadata": {},
     "output_type": "execute_result"
    }
   ],
   "source": [
    "df_dask = dd.read_csv('/home/tigran/Downloads/code/Data/StateFarm_missing.csv', sep=';')\n",
    "df_dask.head()"
   ]
  },
  {
   "cell_type": "code",
   "execution_count": 74,
   "id": "3a8d7303",
   "metadata": {},
   "outputs": [],
   "source": [
    "df_dask['Response'] = df_dask['Response'].replace({'No': 0, 'Yes': 1})\n",
    "y_dask = df_dask.pop('Response')"
   ]
  },
  {
   "cell_type": "code",
   "execution_count": 75,
   "id": "3020a62d",
   "metadata": {},
   "outputs": [],
   "source": [
    "X_train, X_test, y_train, y_test = train_test_split(df_dask, \n",
    "                                                   y_dask,\n",
    "                                                   shuffle=True,\n",
    "                                                   test_size=0.3,\n",
    "                                                   random_state=42)"
   ]
  },
  {
   "cell_type": "code",
   "execution_count": 76,
   "id": "4dbad062",
   "metadata": {},
   "outputs": [
    {
     "data": {
      "text/plain": [
       "['Customer Lifetime Value',\n",
       " 'Income',\n",
       " 'Monthly Premium Auto',\n",
       " 'Months Since Last Claim',\n",
       " 'Months Since Policy Inception',\n",
       " 'Number of Open Complaints',\n",
       " 'Number of Policies']"
      ]
     },
     "execution_count": 76,
     "metadata": {},
     "output_type": "execute_result"
    }
   ],
   "source": [
    "number = X_train.select_dtypes(include='number').columns.tolist()\n",
    "number"
   ]
  },
  {
   "cell_type": "code",
   "execution_count": 77,
   "id": "cc2bc97c",
   "metadata": {},
   "outputs": [
    {
     "data": {
      "text/plain": [
       "['Coverage', 'Education', 'EmploymentStatus', 'Gender']"
      ]
     },
     "execution_count": 77,
     "metadata": {},
     "output_type": "execute_result"
    }
   ],
   "source": [
    "categ = X_train.select_dtypes(include='object').columns.tolist()\n",
    "categ"
   ]
  },
  {
   "cell_type": "code",
   "execution_count": 78,
   "id": "3bf87c80",
   "metadata": {},
   "outputs": [
    {
     "name": "stdout",
     "output_type": "stream",
     "text": [
      "0       Basic\n",
      "1    Extended\n",
      "2     Premium\n",
      "3         NaN\n",
      "Name: Coverage, dtype: object\n",
      "\n",
      "0                 College\n",
      "1                Bachelor\n",
      "2    High School or Below\n",
      "3                  Master\n",
      "4                     NaN\n",
      "5                  Doctor\n",
      "Name: Education, dtype: object\n",
      "\n",
      "0    Medical Leave\n",
      "1         Employed\n",
      "2       Unemployed\n",
      "3          Retired\n",
      "4         Disabled\n",
      "5              NaN\n",
      "Name: EmploymentStatus, dtype: object\n",
      "\n",
      "0      M\n",
      "1      F\n",
      "2    NaN\n",
      "Name: Gender, dtype: object\n",
      "\n"
     ]
    }
   ],
   "source": [
    "for col in categ:\n",
    "    print(X_train[col].unique().compute())\n",
    "    print('')"
   ]
  },
  {
   "cell_type": "code",
   "execution_count": 79,
   "id": "8a5e614a",
   "metadata": {},
   "outputs": [],
   "source": [
    "for col in categ:\n",
    "    X_train[col] = X_train[col].astype('str')"
   ]
  },
  {
   "cell_type": "code",
   "execution_count": 80,
   "id": "eda122f5",
   "metadata": {},
   "outputs": [
    {
     "name": "stdout",
     "output_type": "stream",
     "text": [
      "0       Basic\n",
      "1    Extended\n",
      "2     Premium\n",
      "3         nan\n",
      "Name: Coverage, dtype: object\n",
      "\n",
      "0                 College\n",
      "1                Bachelor\n",
      "2    High School or Below\n",
      "3                  Master\n",
      "4                     nan\n",
      "5                  Doctor\n",
      "Name: Education, dtype: object\n",
      "\n",
      "0    Medical Leave\n",
      "1         Employed\n",
      "2       Unemployed\n",
      "3          Retired\n",
      "4         Disabled\n",
      "5              nan\n",
      "Name: EmploymentStatus, dtype: object\n",
      "\n",
      "0      M\n",
      "1      F\n",
      "2    nan\n",
      "Name: Gender, dtype: object\n",
      "\n"
     ]
    }
   ],
   "source": [
    "for col in categ:\n",
    "    print(X_train[col].unique().compute())\n",
    "    print('')"
   ]
  },
  {
   "cell_type": "code",
   "execution_count": 81,
   "id": "f7b9a4e7",
   "metadata": {},
   "outputs": [],
   "source": [
    "coverage_lst = sorted(X_train['Coverage'].unique().compute().tolist())\n",
    "educ_lst = sorted(X_train['Education'].unique().compute().tolist())\n",
    "empl_lst = sorted(X_train['EmploymentStatus'].unique().compute().tolist())\n",
    "gender_lst = sorted(X_train['Gender'].unique().compute().tolist())"
   ]
  },
  {
   "cell_type": "code",
   "execution_count": 82,
   "id": "684745d6",
   "metadata": {},
   "outputs": [],
   "source": [
    "categories = {'Coverage': CategoricalDtype(coverage_lst, ordered=False),\n",
    "             'Education': CategoricalDtype(educ_lst, ordered=False),\n",
    "             'EmploymentStatus': CategoricalDtype(empl_lst, ordered=False),\n",
    "             'Gender': CategoricalDtype(gender_lst, ordered=False)}"
   ]
  },
  {
   "cell_type": "code",
   "execution_count": 83,
   "id": "58c35573",
   "metadata": {},
   "outputs": [],
   "source": [
    "num_pipe = Pipeline([\n",
    "    ('imp', SimpleImputer()),\n",
    "    ('scaler', StandardScaler())\n",
    "])"
   ]
  },
  {
   "cell_type": "code",
   "execution_count": 84,
   "id": "7fa352a7",
   "metadata": {},
   "outputs": [],
   "source": [
    "cat_pipe = Pipeline([\n",
    "    ('categ', Categorizer(categories=categories)),\n",
    "    ('dum', DummyEncoder())\n",
    "])"
   ]
  },
  {
   "cell_type": "code",
   "execution_count": 85,
   "id": "deeb60f7",
   "metadata": {},
   "outputs": [],
   "source": [
    "transformers = [('num', num_pipe, number),\n",
    "               ('cat', cat_pipe, categ)]"
   ]
  },
  {
   "cell_type": "code",
   "execution_count": 86,
   "id": "618df467",
   "metadata": {},
   "outputs": [],
   "source": [
    "transformer = ColumnTransformer(transformers=transformers)"
   ]
  },
  {
   "cell_type": "code",
   "execution_count": 87,
   "id": "8f227d94",
   "metadata": {},
   "outputs": [],
   "source": [
    "ml_pipe = Pipeline([\n",
    "    ('tf', transformer),\n",
    "    ('logreg', LogisticRegression(fit_intercept=False, n_jobs=-1))\n",
    "])"
   ]
  },
  {
   "cell_type": "code",
   "execution_count": 88,
   "id": "1391dcd2",
   "metadata": {},
   "outputs": [
    {
     "data": {
      "text/html": [
       "<style>#sk-container-id-1 {color: black;background-color: white;}#sk-container-id-1 pre{padding: 0;}#sk-container-id-1 div.sk-toggleable {background-color: white;}#sk-container-id-1 label.sk-toggleable__label {cursor: pointer;display: block;width: 100%;margin-bottom: 0;padding: 0.3em;box-sizing: border-box;text-align: center;}#sk-container-id-1 label.sk-toggleable__label-arrow:before {content: \"▸\";float: left;margin-right: 0.25em;color: #696969;}#sk-container-id-1 label.sk-toggleable__label-arrow:hover:before {color: black;}#sk-container-id-1 div.sk-estimator:hover label.sk-toggleable__label-arrow:before {color: black;}#sk-container-id-1 div.sk-toggleable__content {max-height: 0;max-width: 0;overflow: hidden;text-align: left;background-color: #f0f8ff;}#sk-container-id-1 div.sk-toggleable__content pre {margin: 0.2em;color: black;border-radius: 0.25em;background-color: #f0f8ff;}#sk-container-id-1 input.sk-toggleable__control:checked~div.sk-toggleable__content {max-height: 200px;max-width: 100%;overflow: auto;}#sk-container-id-1 input.sk-toggleable__control:checked~label.sk-toggleable__label-arrow:before {content: \"▾\";}#sk-container-id-1 div.sk-estimator input.sk-toggleable__control:checked~label.sk-toggleable__label {background-color: #d4ebff;}#sk-container-id-1 div.sk-label input.sk-toggleable__control:checked~label.sk-toggleable__label {background-color: #d4ebff;}#sk-container-id-1 input.sk-hidden--visually {border: 0;clip: rect(1px 1px 1px 1px);clip: rect(1px, 1px, 1px, 1px);height: 1px;margin: -1px;overflow: hidden;padding: 0;position: absolute;width: 1px;}#sk-container-id-1 div.sk-estimator {font-family: monospace;background-color: #f0f8ff;border: 1px dotted black;border-radius: 0.25em;box-sizing: border-box;margin-bottom: 0.5em;}#sk-container-id-1 div.sk-estimator:hover {background-color: #d4ebff;}#sk-container-id-1 div.sk-parallel-item::after {content: \"\";width: 100%;border-bottom: 1px solid gray;flex-grow: 1;}#sk-container-id-1 div.sk-label:hover label.sk-toggleable__label {background-color: #d4ebff;}#sk-container-id-1 div.sk-serial::before {content: \"\";position: absolute;border-left: 1px solid gray;box-sizing: border-box;top: 0;bottom: 0;left: 50%;z-index: 0;}#sk-container-id-1 div.sk-serial {display: flex;flex-direction: column;align-items: center;background-color: white;padding-right: 0.2em;padding-left: 0.2em;position: relative;}#sk-container-id-1 div.sk-item {position: relative;z-index: 1;}#sk-container-id-1 div.sk-parallel {display: flex;align-items: stretch;justify-content: center;background-color: white;position: relative;}#sk-container-id-1 div.sk-item::before, #sk-container-id-1 div.sk-parallel-item::before {content: \"\";position: absolute;border-left: 1px solid gray;box-sizing: border-box;top: 0;bottom: 0;left: 50%;z-index: -1;}#sk-container-id-1 div.sk-parallel-item {display: flex;flex-direction: column;z-index: 1;position: relative;background-color: white;}#sk-container-id-1 div.sk-parallel-item:first-child::after {align-self: flex-end;width: 50%;}#sk-container-id-1 div.sk-parallel-item:last-child::after {align-self: flex-start;width: 50%;}#sk-container-id-1 div.sk-parallel-item:only-child::after {width: 0;}#sk-container-id-1 div.sk-dashed-wrapped {border: 1px dashed gray;margin: 0 0.4em 0.5em 0.4em;box-sizing: border-box;padding-bottom: 0.4em;background-color: white;}#sk-container-id-1 div.sk-label label {font-family: monospace;font-weight: bold;display: inline-block;line-height: 1.2em;}#sk-container-id-1 div.sk-label-container {text-align: center;}#sk-container-id-1 div.sk-container {/* jupyter's `normalize.less` sets `[hidden] { display: none; }` but bootstrap.min.css set `[hidden] { display: none !important; }` so we also need the `!important` here to be able to override the default hidden behavior on the sphinx rendered scikit-learn.org. See: https://github.com/scikit-learn/scikit-learn/issues/21755 */display: inline-block !important;position: relative;}#sk-container-id-1 div.sk-text-repr-fallback {display: none;}</style><div id=\"sk-container-id-1\" class=\"sk-top-container\"><div class=\"sk-text-repr-fallback\"><pre>Pipeline(steps=[(&#x27;tf&#x27;,\n",
       "                 ColumnTransformer(transformers=[(&#x27;num&#x27;,\n",
       "                                                  Pipeline(steps=[(&#x27;imp&#x27;,\n",
       "                                                                   SimpleImputer()),\n",
       "                                                                  (&#x27;scaler&#x27;,\n",
       "                                                                   StandardScaler())]),\n",
       "                                                  [&#x27;Customer Lifetime Value&#x27;,\n",
       "                                                   &#x27;Income&#x27;,\n",
       "                                                   &#x27;Monthly Premium Auto&#x27;,\n",
       "                                                   &#x27;Months Since Last Claim&#x27;,\n",
       "                                                   &#x27;Months Since Policy &#x27;\n",
       "                                                   &#x27;Inception&#x27;,\n",
       "                                                   &#x27;Number of Open Complaints&#x27;,\n",
       "                                                   &#x27;Number of Policies&#x27;]),\n",
       "                                                 (&#x27;cat&#x27;,\n",
       "                                                  Pipeline(steps=[(&#x27;categ&#x27;,\n",
       "                                                                   Categorizer(categories={&#x27;Coverag...\n",
       ", ordered=False),\n",
       "                                                                                           &#x27;EmploymentStatus&#x27;: CategoricalDtype(categories=[&#x27;Disabled&#x27;, &#x27;Employed&#x27;, &#x27;Medical Leave&#x27;, &#x27;Retired&#x27;,\n",
       "                  &#x27;Unemployed&#x27;, &#x27;nan&#x27;],\n",
       ", ordered=False),\n",
       "                                                                                           &#x27;Gender&#x27;: CategoricalDtype(categories=[&#x27;F&#x27;, &#x27;M&#x27;, &#x27;nan&#x27;], ordered=False)})),\n",
       "                                                                  (&#x27;dum&#x27;,\n",
       "                                                                   DummyEncoder())]),\n",
       "                                                  [&#x27;Coverage&#x27;, &#x27;Education&#x27;,\n",
       "                                                   &#x27;EmploymentStatus&#x27;,\n",
       "                                                   &#x27;Gender&#x27;])])),\n",
       "                (&#x27;logreg&#x27;, LogisticRegression(fit_intercept=False, n_jobs=-1))])</pre><b>In a Jupyter environment, please rerun this cell to show the HTML representation or trust the notebook. <br />On GitHub, the HTML representation is unable to render, please try loading this page with nbviewer.org.</b></div><div class=\"sk-container\" hidden><div class=\"sk-item sk-dashed-wrapped\"><div class=\"sk-label-container\"><div class=\"sk-label sk-toggleable\"><input class=\"sk-toggleable__control sk-hidden--visually\" id=\"sk-estimator-id-1\" type=\"checkbox\" ><label for=\"sk-estimator-id-1\" class=\"sk-toggleable__label sk-toggleable__label-arrow\">Pipeline</label><div class=\"sk-toggleable__content\"><pre>Pipeline(steps=[(&#x27;tf&#x27;,\n",
       "                 ColumnTransformer(transformers=[(&#x27;num&#x27;,\n",
       "                                                  Pipeline(steps=[(&#x27;imp&#x27;,\n",
       "                                                                   SimpleImputer()),\n",
       "                                                                  (&#x27;scaler&#x27;,\n",
       "                                                                   StandardScaler())]),\n",
       "                                                  [&#x27;Customer Lifetime Value&#x27;,\n",
       "                                                   &#x27;Income&#x27;,\n",
       "                                                   &#x27;Monthly Premium Auto&#x27;,\n",
       "                                                   &#x27;Months Since Last Claim&#x27;,\n",
       "                                                   &#x27;Months Since Policy &#x27;\n",
       "                                                   &#x27;Inception&#x27;,\n",
       "                                                   &#x27;Number of Open Complaints&#x27;,\n",
       "                                                   &#x27;Number of Policies&#x27;]),\n",
       "                                                 (&#x27;cat&#x27;,\n",
       "                                                  Pipeline(steps=[(&#x27;categ&#x27;,\n",
       "                                                                   Categorizer(categories={&#x27;Coverag...\n",
       ", ordered=False),\n",
       "                                                                                           &#x27;EmploymentStatus&#x27;: CategoricalDtype(categories=[&#x27;Disabled&#x27;, &#x27;Employed&#x27;, &#x27;Medical Leave&#x27;, &#x27;Retired&#x27;,\n",
       "                  &#x27;Unemployed&#x27;, &#x27;nan&#x27;],\n",
       ", ordered=False),\n",
       "                                                                                           &#x27;Gender&#x27;: CategoricalDtype(categories=[&#x27;F&#x27;, &#x27;M&#x27;, &#x27;nan&#x27;], ordered=False)})),\n",
       "                                                                  (&#x27;dum&#x27;,\n",
       "                                                                   DummyEncoder())]),\n",
       "                                                  [&#x27;Coverage&#x27;, &#x27;Education&#x27;,\n",
       "                                                   &#x27;EmploymentStatus&#x27;,\n",
       "                                                   &#x27;Gender&#x27;])])),\n",
       "                (&#x27;logreg&#x27;, LogisticRegression(fit_intercept=False, n_jobs=-1))])</pre></div></div></div><div class=\"sk-serial\"><div class=\"sk-item sk-dashed-wrapped\"><div class=\"sk-label-container\"><div class=\"sk-label sk-toggleable\"><input class=\"sk-toggleable__control sk-hidden--visually\" id=\"sk-estimator-id-2\" type=\"checkbox\" ><label for=\"sk-estimator-id-2\" class=\"sk-toggleable__label sk-toggleable__label-arrow\">tf: ColumnTransformer</label><div class=\"sk-toggleable__content\"><pre>ColumnTransformer(transformers=[(&#x27;num&#x27;,\n",
       "                                 Pipeline(steps=[(&#x27;imp&#x27;, SimpleImputer()),\n",
       "                                                 (&#x27;scaler&#x27;, StandardScaler())]),\n",
       "                                 [&#x27;Customer Lifetime Value&#x27;, &#x27;Income&#x27;,\n",
       "                                  &#x27;Monthly Premium Auto&#x27;,\n",
       "                                  &#x27;Months Since Last Claim&#x27;,\n",
       "                                  &#x27;Months Since Policy Inception&#x27;,\n",
       "                                  &#x27;Number of Open Complaints&#x27;,\n",
       "                                  &#x27;Number of Policies&#x27;]),\n",
       "                                (&#x27;cat&#x27;,\n",
       "                                 Pipeline(steps=[(&#x27;categ&#x27;,\n",
       "                                                  Categorizer(categories={&#x27;Coverage&#x27;: CategoricalDtype(cate...\n",
       "                                                                          &#x27;Education&#x27;: CategoricalDtype(categories=[&#x27;Bachelor&#x27;, &#x27;College&#x27;, &#x27;Doctor&#x27;, &#x27;High School or Below&#x27;,\n",
       "                  &#x27;Master&#x27;, &#x27;nan&#x27;],\n",
       ", ordered=False),\n",
       "                                                                          &#x27;EmploymentStatus&#x27;: CategoricalDtype(categories=[&#x27;Disabled&#x27;, &#x27;Employed&#x27;, &#x27;Medical Leave&#x27;, &#x27;Retired&#x27;,\n",
       "                  &#x27;Unemployed&#x27;, &#x27;nan&#x27;],\n",
       ", ordered=False),\n",
       "                                                                          &#x27;Gender&#x27;: CategoricalDtype(categories=[&#x27;F&#x27;, &#x27;M&#x27;, &#x27;nan&#x27;], ordered=False)})),\n",
       "                                                 (&#x27;dum&#x27;, DummyEncoder())]),\n",
       "                                 [&#x27;Coverage&#x27;, &#x27;Education&#x27;, &#x27;EmploymentStatus&#x27;,\n",
       "                                  &#x27;Gender&#x27;])])</pre></div></div></div><div class=\"sk-parallel\"><div class=\"sk-parallel-item\"><div class=\"sk-item\"><div class=\"sk-label-container\"><div class=\"sk-label sk-toggleable\"><input class=\"sk-toggleable__control sk-hidden--visually\" id=\"sk-estimator-id-3\" type=\"checkbox\" ><label for=\"sk-estimator-id-3\" class=\"sk-toggleable__label sk-toggleable__label-arrow\">num</label><div class=\"sk-toggleable__content\"><pre>[&#x27;Customer Lifetime Value&#x27;, &#x27;Income&#x27;, &#x27;Monthly Premium Auto&#x27;, &#x27;Months Since Last Claim&#x27;, &#x27;Months Since Policy Inception&#x27;, &#x27;Number of Open Complaints&#x27;, &#x27;Number of Policies&#x27;]</pre></div></div></div><div class=\"sk-serial\"><div class=\"sk-item\"><div class=\"sk-serial\"><div class=\"sk-item\"><div class=\"sk-estimator sk-toggleable\"><input class=\"sk-toggleable__control sk-hidden--visually\" id=\"sk-estimator-id-4\" type=\"checkbox\" ><label for=\"sk-estimator-id-4\" class=\"sk-toggleable__label sk-toggleable__label-arrow\">SimpleImputer</label><div class=\"sk-toggleable__content\"><pre>SimpleImputer()</pre></div></div></div><div class=\"sk-item\"><div class=\"sk-estimator sk-toggleable\"><input class=\"sk-toggleable__control sk-hidden--visually\" id=\"sk-estimator-id-5\" type=\"checkbox\" ><label for=\"sk-estimator-id-5\" class=\"sk-toggleable__label sk-toggleable__label-arrow\">StandardScaler</label><div class=\"sk-toggleable__content\"><pre>StandardScaler()</pre></div></div></div></div></div></div></div></div><div class=\"sk-parallel-item\"><div class=\"sk-item\"><div class=\"sk-label-container\"><div class=\"sk-label sk-toggleable\"><input class=\"sk-toggleable__control sk-hidden--visually\" id=\"sk-estimator-id-6\" type=\"checkbox\" ><label for=\"sk-estimator-id-6\" class=\"sk-toggleable__label sk-toggleable__label-arrow\">cat</label><div class=\"sk-toggleable__content\"><pre>[&#x27;Coverage&#x27;, &#x27;Education&#x27;, &#x27;EmploymentStatus&#x27;, &#x27;Gender&#x27;]</pre></div></div></div><div class=\"sk-serial\"><div class=\"sk-item\"><div class=\"sk-serial\"><div class=\"sk-item\"><div class=\"sk-estimator sk-toggleable\"><input class=\"sk-toggleable__control sk-hidden--visually\" id=\"sk-estimator-id-7\" type=\"checkbox\" ><label for=\"sk-estimator-id-7\" class=\"sk-toggleable__label sk-toggleable__label-arrow\">Categorizer</label><div class=\"sk-toggleable__content\"><pre>Categorizer(categories={&#x27;Coverage&#x27;: CategoricalDtype(categories=[&#x27;Basic&#x27;, &#x27;Extended&#x27;, &#x27;Premium&#x27;, &#x27;nan&#x27;], ordered=False),\n",
       "                        &#x27;Education&#x27;: CategoricalDtype(categories=[&#x27;Bachelor&#x27;, &#x27;College&#x27;, &#x27;Doctor&#x27;, &#x27;High School or Below&#x27;,\n",
       "                  &#x27;Master&#x27;, &#x27;nan&#x27;],\n",
       ", ordered=False),\n",
       "                        &#x27;EmploymentStatus&#x27;: CategoricalDtype(categories=[&#x27;Disabled&#x27;, &#x27;Employed&#x27;, &#x27;Medical Leave&#x27;, &#x27;Retired&#x27;,\n",
       "                  &#x27;Unemployed&#x27;, &#x27;nan&#x27;],\n",
       ", ordered=False),\n",
       "                        &#x27;Gender&#x27;: CategoricalDtype(categories=[&#x27;F&#x27;, &#x27;M&#x27;, &#x27;nan&#x27;], ordered=False)})</pre></div></div></div><div class=\"sk-item\"><div class=\"sk-estimator sk-toggleable\"><input class=\"sk-toggleable__control sk-hidden--visually\" id=\"sk-estimator-id-8\" type=\"checkbox\" ><label for=\"sk-estimator-id-8\" class=\"sk-toggleable__label sk-toggleable__label-arrow\">DummyEncoder</label><div class=\"sk-toggleable__content\"><pre>DummyEncoder()</pre></div></div></div></div></div></div></div></div></div></div><div class=\"sk-item\"><div class=\"sk-estimator sk-toggleable\"><input class=\"sk-toggleable__control sk-hidden--visually\" id=\"sk-estimator-id-9\" type=\"checkbox\" ><label for=\"sk-estimator-id-9\" class=\"sk-toggleable__label sk-toggleable__label-arrow\">LogisticRegression</label><div class=\"sk-toggleable__content\"><pre>LogisticRegression(fit_intercept=False, n_jobs=-1)</pre></div></div></div></div></div></div></div>"
      ],
      "text/plain": [
       "Pipeline(steps=[('tf',\n",
       "                 ColumnTransformer(transformers=[('num',\n",
       "                                                  Pipeline(steps=[('imp',\n",
       "                                                                   SimpleImputer()),\n",
       "                                                                  ('scaler',\n",
       "                                                                   StandardScaler())]),\n",
       "                                                  ['Customer Lifetime Value',\n",
       "                                                   'Income',\n",
       "                                                   'Monthly Premium Auto',\n",
       "                                                   'Months Since Last Claim',\n",
       "                                                   'Months Since Policy '\n",
       "                                                   'Inception',\n",
       "                                                   'Number of Open Complaints',\n",
       "                                                   'Number of Policies']),\n",
       "                                                 ('cat',\n",
       "                                                  Pipeline(steps=[('categ',\n",
       "                                                                   Categorizer(categories={'Coverag...\n",
       ", ordered=False),\n",
       "                                                                                           'EmploymentStatus': CategoricalDtype(categories=['Disabled', 'Employed', 'Medical Leave', 'Retired',\n",
       "                  'Unemployed', 'nan'],\n",
       ", ordered=False),\n",
       "                                                                                           'Gender': CategoricalDtype(categories=['F', 'M', 'nan'], ordered=False)})),\n",
       "                                                                  ('dum',\n",
       "                                                                   DummyEncoder())]),\n",
       "                                                  ['Coverage', 'Education',\n",
       "                                                   'EmploymentStatus',\n",
       "                                                   'Gender'])])),\n",
       "                ('logreg', LogisticRegression(fit_intercept=False, n_jobs=-1))])"
      ]
     },
     "execution_count": 88,
     "metadata": {},
     "output_type": "execute_result"
    }
   ],
   "source": [
    "ml_pipe.fit(X_train, y_train)"
   ]
  },
  {
   "cell_type": "code",
   "execution_count": 89,
   "id": "06d10aca",
   "metadata": {},
   "outputs": [
    {
     "data": {
      "text/plain": [
       "8.986623429266315e-01"
      ]
     },
     "execution_count": 89,
     "metadata": {},
     "output_type": "execute_result"
    }
   ],
   "source": [
    "preds = ml_pipe.predict(X_test)\n",
    "accuracy_score(y_test, preds)"
   ]
  }
 ],
 "metadata": {
  "kernelspec": {
   "display_name": "Python 3 (ipykernel)",
   "language": "python",
   "name": "python3"
  },
  "language_info": {
   "codemirror_mode": {
    "name": "ipython",
    "version": 3
   },
   "file_extension": ".py",
   "mimetype": "text/x-python",
   "name": "python",
   "nbconvert_exporter": "python",
   "pygments_lexer": "ipython3",
   "version": "3.9.12"
  }
 },
 "nbformat": 4,
 "nbformat_minor": 5
}
